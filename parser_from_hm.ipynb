{
 "cells": [
  {
   "cell_type": "code",
   "execution_count": 1,
   "metadata": {},
   "outputs": [],
   "source": [
    "import sqlparse"
   ]
  },
  {
   "cell_type": "code",
   "execution_count": 2,
   "metadata": {},
   "outputs": [],
   "source": [
    "sqlparse.cli"
   ]
  },
  {
   "cell_type": "code",
   "execution_count": 3,
   "metadata": {},
   "outputs": [],
   "source": [
    "import sqlparse"
   ]
  },
  {
   "cell_type": "code",
   "execution_count": 4,
   "metadata": {},
   "outputs": [],
   "source": [
    "def extract_definitions(token_list):\n",
    "    # assumes that token_list is a parenthesis\n",
    "    definitions = []\n",
    "    tmp = []\n",
    "    # grab the first token, ignoring whitespace. idx=1 to skip open (\n",
    "    tidx, token = token_list.token_next(1)\n",
    "    while token and not token.match(sqlparse.tokens.Punctuation, ')'):\n",
    "        tmp.append(token)\n",
    "        # grab the next token, this times including whitespace\n",
    "        tidx, token = token_list.token_next(tidx, skip_ws=False)\n",
    "        # split on \",\", except when on end of statement\n",
    "        if token and token.match(sqlparse.tokens.Punctuation, ','):\n",
    "            definitions.append(tmp)\n",
    "            tmp = []\n",
    "            tidx, token = token_list.token_next(tidx)\n",
    "    if tmp and isinstance(tmp[0], sqlparse.sql.Identifier):\n",
    "        definitions.append(tmp)\n",
    "    return definitions"
   ]
  },
  {
   "cell_type": "code",
   "execution_count": 5,
   "metadata": {},
   "outputs": [],
   "source": [
    "SQL = \"\"\"CREATE TABLE foo (\n",
    "             id integer primary key,\n",
    "             title varchar(200) not null,\n",
    "             description text);\"\"\""
   ]
  },
  {
   "cell_type": "code",
   "execution_count": 6,
   "metadata": {},
   "outputs": [],
   "source": [
    "parsed = sqlparse.parse(SQL)[0]"
   ]
  },
  {
   "cell_type": "code",
   "execution_count": 7,
   "metadata": {},
   "outputs": [],
   "source": [
    "parsed.token_next?"
   ]
  },
  {
   "cell_type": "code",
   "execution_count": 8,
   "metadata": {},
   "outputs": [],
   "source": [
    "_, par = parsed.token_next_by(i=sqlparse.sql.Parenthesis)"
   ]
  },
  {
   "cell_type": "code",
   "execution_count": 9,
   "metadata": {},
   "outputs": [],
   "source": [
    "par"
   ]
  },
  {
   "cell_type": "code",
   "execution_count": 10,
   "metadata": {},
   "outputs": [],
   "source": [
    "for i in par:\n",
    "    print i\n",
    "    "
   ]
  },
  {
   "cell_type": "code",
   "execution_count": 11,
   "metadata": {},
   "outputs": [],
   "source": [
    "parsed"
   ]
  },
  {
   "cell_type": "code",
   "execution_count": 12,
   "metadata": {},
   "outputs": [],
   "source": [
    "parsed.tokens"
   ]
  },
  {
   "cell_type": "code",
   "execution_count": 13,
   "metadata": {},
   "outputs": [],
   "source": [
    "columns = extract_definitions(par)"
   ]
  },
  {
   "cell_type": "code",
   "execution_count": 14,
   "metadata": {},
   "outputs": [],
   "source": [
    "columns"
   ]
  },
  {
   "cell_type": "code",
   "execution_count": 15,
   "metadata": {},
   "outputs": [],
   "source": [
    "for column in columns:\n",
    "        print('NAME: {name:10} DEFINITION: {definition}'.format(\n",
    "            name=column[0], definition=''.join(str(t) for t in column[1:])))\n",
    "    "
   ]
  },
  {
   "cell_type": "code",
   "execution_count": 16,
   "metadata": {},
   "outputs": [],
   "source": [
    "columns"
   ]
  },
  {
   "cell_type": "code",
   "execution_count": 17,
   "metadata": {},
   "outputs": [],
   "source": [
    "str(columns[1])"
   ]
  },
  {
   "cell_type": "code",
   "execution_count": 18,
   "metadata": {},
   "outputs": [],
   "source": [
    "columns"
   ]
  },
  {
   "cell_type": "code",
   "execution_count": 19,
   "metadata": {},
   "outputs": [],
   "source": [
    "columns[1:]"
   ]
  },
  {
   "cell_type": "code",
   "execution_count": 20,
   "metadata": {},
   "outputs": [],
   "source": [
    "columns = extract_definitions(par)"
   ]
  },
  {
   "cell_type": "code",
   "execution_count": 21,
   "metadata": {},
   "outputs": [],
   "source": [
    "columns"
   ]
  },
  {
   "cell_type": "code",
   "execution_count": 22,
   "metadata": {},
   "outputs": [],
   "source": [
    "str[columns[1]]"
   ]
  },
  {
   "cell_type": "code",
   "execution_count": 23,
   "metadata": {},
   "outputs": [],
   "source": [
    "str(columns[1])"
   ]
  },
  {
   "cell_type": "code",
   "execution_count": 24,
   "metadata": {},
   "outputs": [],
   "source": [
    "str(columns[1:1])"
   ]
  },
  {
   "cell_type": "code",
   "execution_count": 25,
   "metadata": {},
   "outputs": [],
   "source": [
    "str(columns[1:])"
   ]
  },
  {
   "cell_type": "code",
   "execution_count": 26,
   "metadata": {},
   "outputs": [],
   "source": [
    "for column in columns:\n",
    "        print('NAME: {name:10} DEFINITION: {definition}'.format(\n",
    "            name=column[0], definition=''.join(str(t) for t in column[1:])))\n",
    "    "
   ]
  },
  {
   "cell_type": "code",
   "execution_count": 27,
   "metadata": {},
   "outputs": [],
   "source": [
    "columns"
   ]
  },
  {
   "cell_type": "code",
   "execution_count": 28,
   "metadata": {},
   "outputs": [],
   "source": [
    "len(columns)"
   ]
  },
  {
   "cell_type": "code",
   "execution_count": 29,
   "metadata": {},
   "outputs": [],
   "source": [
    "columns[0]"
   ]
  },
  {
   "cell_type": "code",
   "execution_count": 30,
   "metadata": {},
   "outputs": [],
   "source": [
    "columns[0][1]"
   ]
  },
  {
   "cell_type": "code",
   "execution_count": 31,
   "metadata": {},
   "outputs": [],
   "source": [
    "columns[0][1:]"
   ]
  },
  {
   "cell_type": "code",
   "execution_count": 32,
   "metadata": {},
   "outputs": [],
   "source": [
    "str(columns[0][1])"
   ]
  },
  {
   "cell_type": "code",
   "execution_count": 33,
   "metadata": {},
   "outputs": [],
   "source": [
    "str(columns[0][2])"
   ]
  },
  {
   "cell_type": "code",
   "execution_count": 34,
   "metadata": {},
   "outputs": [],
   "source": [
    "str(columns[0][3])"
   ]
  },
  {
   "cell_type": "code",
   "execution_count": 35,
   "metadata": {},
   "outputs": [],
   "source": [
    "str(columns[0][4])"
   ]
  },
  {
   "cell_type": "code",
   "execution_count": 36,
   "metadata": {},
   "outputs": [],
   "source": [
    "parsed"
   ]
  },
  {
   "cell_type": "code",
   "execution_count": 37,
   "metadata": {},
   "outputs": [],
   "source": [
    "parsed.tokens"
   ]
  },
  {
   "cell_type": "code",
   "execution_count": 38,
   "metadata": {},
   "outputs": [],
   "source": [
    "parsed.tokens[0]"
   ]
  },
  {
   "cell_type": "code",
   "execution_count": 39,
   "metadata": {},
   "outputs": [],
   "source": [
    "str(parsed.tokens[0])"
   ]
  },
  {
   "cell_type": "code",
   "execution_count": 40,
   "metadata": {},
   "outputs": [],
   "source": [
    "sql1 = \"\"\"select fn,age from customer a where a.fn = '10'\"\"\""
   ]
  },
  {
   "cell_type": "code",
   "execution_count": 41,
   "metadata": {},
   "outputs": [],
   "source": [
    "stmt = sqlparse(sql1)[0]"
   ]
  },
  {
   "cell_type": "code",
   "execution_count": 42,
   "metadata": {},
   "outputs": [],
   "source": [
    "stmt = sqlparse.parse(sql1)[0]"
   ]
  },
  {
   "cell_type": "code",
   "execution_count": 43,
   "metadata": {},
   "outputs": [],
   "source": [
    "stmt.tokens"
   ]
  },
  {
   "cell_type": "code",
   "execution_count": 44,
   "metadata": {},
   "outputs": [],
   "source": [
    "for i in stmt.tokens:\n",
    "    print str(i)\n",
    "    "
   ]
  },
  {
   "cell_type": "code",
   "execution_count": 45,
   "metadata": {},
   "outputs": [],
   "source": [
    "for i in stmt.tokens:\n",
    "    print '//',str(i)\n",
    "    \n",
    "    "
   ]
  },
  {
   "cell_type": "code",
   "execution_count": 46,
   "metadata": {},
   "outputs": [],
   "source": [
    "stmt.tokens"
   ]
  },
  {
   "cell_type": "code",
   "execution_count": 47,
   "metadata": {},
   "outputs": [],
   "source": [
    "stmt.tokens[6]"
   ]
  },
  {
   "cell_type": "code",
   "execution_count": 48,
   "metadata": {},
   "outputs": [],
   "source": [
    "for i in stmt.tokens[6]:\n",
    "    print i\n",
    "    "
   ]
  },
  {
   "cell_type": "code",
   "execution_count": 49,
   "metadata": {},
   "outputs": [],
   "source": [
    "len(stmt.tokens[6])"
   ]
  },
  {
   "cell_type": "code",
   "execution_count": 50,
   "metadata": {},
   "outputs": [],
   "source": [
    "stmt.tokens[6]"
   ]
  },
  {
   "cell_type": "code",
   "execution_count": 51,
   "metadata": {},
   "outputs": [],
   "source": [
    "type(stmt.tokens[6])"
   ]
  },
  {
   "cell_type": "code",
   "execution_count": 52,
   "metadata": {},
   "outputs": [],
   "source": [
    "i = type(stmt.tokens[6])"
   ]
  },
  {
   "cell_type": "code",
   "execution_count": 53,
   "metadata": {},
   "outputs": [],
   "source": [
    "i.group_tokens()"
   ]
  },
  {
   "cell_type": "code",
   "execution_count": 54,
   "metadata": {},
   "outputs": [],
   "source": [
    "i.get_sublists()"
   ]
  },
  {
   "cell_type": "code",
   "execution_count": 55,
   "metadata": {},
   "outputs": [],
   "source": [
    "i.flatten()"
   ]
  },
  {
   "cell_type": "code",
   "execution_count": 56,
   "metadata": {},
   "outputs": [],
   "source": [
    "i"
   ]
  },
  {
   "cell_type": "code",
   "execution_count": 57,
   "metadata": {},
   "outputs": [],
   "source": [
    "i.get_name"
   ]
  },
  {
   "cell_type": "code",
   "execution_count": 58,
   "metadata": {},
   "outputs": [],
   "source": [
    "i.get_name()"
   ]
  },
  {
   "cell_type": "code",
   "execution_count": 59,
   "metadata": {},
   "outputs": [],
   "source": [
    "i"
   ]
  },
  {
   "cell_type": "code",
   "execution_count": 60,
   "metadata": {},
   "outputs": [],
   "source": [
    "i = stmt.tokens[6]"
   ]
  },
  {
   "cell_type": "code",
   "execution_count": 61,
   "metadata": {},
   "outputs": [],
   "source": [
    "i.get_name"
   ]
  },
  {
   "cell_type": "code",
   "execution_count": 62,
   "metadata": {},
   "outputs": [],
   "source": [
    "i.get_name()"
   ]
  },
  {
   "cell_type": "code",
   "execution_count": 63,
   "metadata": {},
   "outputs": [],
   "source": [
    "i.get_real_name()"
   ]
  },
  {
   "cell_type": "code",
   "execution_count": 64,
   "metadata": {},
   "outputs": [],
   "source": [
    "i.get_ordering()"
   ]
  },
  {
   "cell_type": "code",
   "execution_count": 65,
   "metadata": {},
   "outputs": [],
   "source": [
    "i.get_parent_name()"
   ]
  },
  {
   "cell_type": "code",
   "execution_count": 66,
   "metadata": {},
   "outputs": [],
   "source": [
    "i.has_alias()"
   ]
  },
  {
   "cell_type": "code",
   "execution_count": 67,
   "metadata": {},
   "outputs": [],
   "source": [
    "i.insert_after"
   ]
  },
  {
   "cell_type": "code",
   "execution_count": 68,
   "metadata": {},
   "outputs": [],
   "source": [
    "i.insert_after()"
   ]
  },
  {
   "cell_type": "code",
   "execution_count": 69,
   "metadata": {},
   "outputs": [],
   "source": [
    "i.get_parent_name()"
   ]
  },
  {
   "cell_type": "code",
   "execution_count": 70,
   "metadata": {},
   "outputs": [],
   "source": [
    "stmt.tokens"
   ]
  },
  {
   "cell_type": "code",
   "execution_count": 71,
   "metadata": {},
   "outputs": [],
   "source": [
    "w = stmt.tokens[8]"
   ]
  },
  {
   "cell_type": "code",
   "execution_count": 72,
   "metadata": {},
   "outputs": [],
   "source": [
    "w"
   ]
  },
  {
   "cell_type": "code",
   "execution_count": 73,
   "metadata": {},
   "outputs": [],
   "source": [
    "type(w)"
   ]
  },
  {
   "cell_type": "code",
   "execution_count": 74,
   "metadata": {},
   "outputs": [],
   "source": [
    "w.get_name()"
   ]
  },
  {
   "cell_type": "code",
   "execution_count": 75,
   "metadata": {},
   "outputs": [],
   "source": [
    "str(w)"
   ]
  },
  {
   "cell_type": "code",
   "execution_count": 76,
   "metadata": {},
   "outputs": [],
   "source": [
    "w"
   ]
  },
  {
   "cell_type": "code",
   "execution_count": 77,
   "metadata": {},
   "outputs": [],
   "source": [
    "w.tokens"
   ]
  },
  {
   "cell_type": "code",
   "execution_count": 78,
   "metadata": {},
   "outputs": [],
   "source": [
    "w.tokens[2]"
   ]
  },
  {
   "cell_type": "code",
   "execution_count": 79,
   "metadata": {},
   "outputs": [],
   "source": [
    "w1  = w.tokens[2]"
   ]
  },
  {
   "cell_type": "code",
   "execution_count": 80,
   "metadata": {},
   "outputs": [],
   "source": [
    "w1"
   ]
  },
  {
   "cell_type": "code",
   "execution_count": 81,
   "metadata": {},
   "outputs": [],
   "source": [
    "type(w1)"
   ]
  },
  {
   "cell_type": "code",
   "execution_count": 82,
   "metadata": {},
   "outputs": [],
   "source": [
    "w1.tokens"
   ]
  },
  {
   "cell_type": "code",
   "execution_count": 83,
   "metadata": {},
   "outputs": [],
   "source": [
    "w1.tokens[0]"
   ]
  },
  {
   "cell_type": "code",
   "execution_count": 84,
   "metadata": {},
   "outputs": [],
   "source": [
    "w1.tokens[0].tokens"
   ]
  },
  {
   "cell_type": "code",
   "execution_count": 85,
   "metadata": {},
   "outputs": [],
   "source": [
    "n = w1.tokens[0].tokens[2]"
   ]
  },
  {
   "cell_type": "code",
   "execution_count": 86,
   "metadata": {},
   "outputs": [],
   "source": [
    "type(n)"
   ]
  },
  {
   "cell_type": "code",
   "execution_count": 87,
   "metadata": {},
   "outputs": [],
   "source": [
    "n.ttype"
   ]
  },
  {
   "cell_type": "code",
   "execution_count": 88,
   "metadata": {},
   "outputs": [],
   "source": [
    "n = w1.tokens[0].tokens[1]"
   ]
  },
  {
   "cell_type": "code",
   "execution_count": 89,
   "metadata": {},
   "outputs": [],
   "source": [
    "n.ttype"
   ]
  },
  {
   "cell_type": "code",
   "execution_count": 90,
   "metadata": {},
   "outputs": [],
   "source": [
    "n.value"
   ]
  },
  {
   "cell_type": "code",
   "execution_count": 91,
   "metadata": {},
   "outputs": [],
   "source": [
    "n.parent"
   ]
  },
  {
   "cell_type": "code",
   "execution_count": 92,
   "metadata": {},
   "outputs": [],
   "source": [
    "type(stmt)"
   ]
  },
  {
   "cell_type": "code",
   "execution_count": 93,
   "metadata": {},
   "outputs": [],
   "source": [
    "type(w)"
   ]
  },
  {
   "cell_type": "code",
   "execution_count": 94,
   "metadata": {},
   "outputs": [],
   "source": [
    "stmt.tokens"
   ]
  },
  {
   "cell_type": "code",
   "execution_count": 95,
   "metadata": {},
   "outputs": [],
   "source": [
    "type(stmt.tokens[0])"
   ]
  },
  {
   "cell_type": "code",
   "execution_count": 96,
   "metadata": {},
   "outputs": [],
   "source": [
    "type(stmt.tokens[1])"
   ]
  },
  {
   "cell_type": "code",
   "execution_count": 97,
   "metadata": {},
   "outputs": [],
   "source": [
    "type(stmt.tokens[2])"
   ]
  },
  {
   "cell_type": "code",
   "execution_count": 98,
   "metadata": {},
   "outputs": [],
   "source": [
    "dml = type(stmt.tokens[0])"
   ]
  },
  {
   "cell_type": "code",
   "execution_count": 99,
   "metadata": {},
   "outputs": [],
   "source": [
    "dml.ttype"
   ]
  },
  {
   "cell_type": "code",
   "execution_count": 100,
   "metadata": {},
   "outputs": [],
   "source": [
    "dml.ttype()"
   ]
  },
  {
   "cell_type": "code",
   "execution_count": 101,
   "metadata": {},
   "outputs": [],
   "source": [
    "dml.ttype"
   ]
  },
  {
   "cell_type": "code",
   "execution_count": 102,
   "metadata": {},
   "outputs": [],
   "source": [
    "dml.value"
   ]
  },
  {
   "cell_type": "code",
   "execution_count": 103,
   "metadata": {},
   "outputs": [],
   "source": [
    "str(dml)"
   ]
  },
  {
   "cell_type": "code",
   "execution_count": 104,
   "metadata": {},
   "outputs": [],
   "source": [
    "dml.ttype()"
   ]
  },
  {
   "cell_type": "code",
   "execution_count": 105,
   "metadata": {},
   "outputs": [],
   "source": [
    "dml.ttyp"
   ]
  },
  {
   "cell_type": "code",
   "execution_count": 106,
   "metadata": {},
   "outputs": [],
   "source": [
    "dml.ttype"
   ]
  },
  {
   "cell_type": "code",
   "execution_count": 107,
   "metadata": {},
   "outputs": [],
   "source": [
    "str(dml.ttype)"
   ]
  },
  {
   "cell_type": "code",
   "execution_count": 108,
   "metadata": {},
   "outputs": [],
   "source": [
    "dml.ttype"
   ]
  },
  {
   "cell_type": "code",
   "execution_count": 109,
   "metadata": {},
   "outputs": [],
   "source": [
    "dml.parent"
   ]
  },
  {
   "cell_type": "code",
   "execution_count": 110,
   "metadata": {},
   "outputs": [],
   "source": [
    "dml.ttype"
   ]
  },
  {
   "cell_type": "code",
   "execution_count": 111,
   "metadata": {},
   "outputs": [],
   "source": [
    "dml.flatten()"
   ]
  },
  {
   "cell_type": "code",
   "execution_count": 112,
   "metadata": {},
   "outputs": [],
   "source": [
    "dml.flatten"
   ]
  },
  {
   "cell_type": "code",
   "execution_count": 113,
   "metadata": {},
   "outputs": [],
   "source": [
    "dml"
   ]
  },
  {
   "cell_type": "code",
   "execution_count": 114,
   "metadata": {},
   "outputs": [],
   "source": [
    "dml =stmt.tokens[0]"
   ]
  },
  {
   "cell_type": "code",
   "execution_count": 115,
   "metadata": {},
   "outputs": [],
   "source": [
    "dml.ttype"
   ]
  },
  {
   "cell_type": "code",
   "execution_count": 116,
   "metadata": {},
   "outputs": [],
   "source": [
    "dml.value"
   ]
  },
  {
   "cell_type": "code",
   "execution_count": 117,
   "metadata": {},
   "outputs": [],
   "source": [
    "dml"
   ]
  },
  {
   "cell_type": "code",
   "execution_count": 118,
   "metadata": {},
   "outputs": [],
   "source": [
    "dml."
   ]
  },
  {
   "cell_type": "code",
   "execution_count": 119,
   "metadata": {},
   "outputs": [],
   "source": [
    "dml"
   ]
  },
  {
   "cell_type": "code",
   "execution_count": 120,
   "metadata": {},
   "outputs": [],
   "source": [
    "dml.flatten()"
   ]
  },
  {
   "cell_type": "code",
   "execution_count": 121,
   "metadata": {},
   "outputs": [],
   "source": [
    "for i in dml.flatten():\n",
    "    print i\n",
    "    "
   ]
  },
  {
   "cell_type": "code",
   "execution_count": 122,
   "metadata": {},
   "outputs": [],
   "source": [
    "next"
   ]
  },
  {
   "cell_type": "code",
   "execution_count": 123,
   "metadata": {},
   "outputs": [],
   "source": [
    "next?"
   ]
  },
  {
   "cell_type": "code",
   "execution_count": 124,
   "metadata": {},
   "outputs": [],
   "source": [
    "from sqlparse.sql import Where, Comparison, Parenthesis"
   ]
  },
  {
   "cell_type": "code",
   "execution_count": 125,
   "metadata": {},
   "outputs": [],
   "source": [
    "query = \"\"\"\n",
    "select\n",
    "    id,fname,lname,address\n",
    "from\n",
    "    res_users as r\n",
    "    left join\n",
    "        res_partner as p\n",
    "    on\n",
    "        p.id=r.partner_id\n",
    "where\n",
    "    name = (select name from res_partner where id = 1)\"\"\""
   ]
  },
  {
   "cell_type": "code",
   "execution_count": 126,
   "metadata": {},
   "outputs": [],
   "source": [
    "query_tokens = sqlparse.parse(query)[0]\n",
    "where = next(token for token in query_tokens.tokens if isinstance(token, Where))\n",
    "condition = next(token for token in where.tokens if isinstance(token, Comparison))\n",
    "subquery = next(token for token in condition.tokens if isinstance(token, Parenthesis))"
   ]
  },
  {
   "cell_type": "code",
   "execution_count": 127,
   "metadata": {},
   "outputs": [],
   "source": [
    "where"
   ]
  },
  {
   "cell_type": "code",
   "execution_count": 128,
   "metadata": {},
   "outputs": [],
   "source": [
    "print where"
   ]
  },
  {
   "cell_type": "code",
   "execution_count": 129,
   "metadata": {},
   "outputs": [],
   "source": [
    "print subquery"
   ]
  },
  {
   "cell_type": "code",
   "execution_count": 130,
   "metadata": {},
   "outputs": [],
   "source": [
    "subquery.tokens"
   ]
  },
  {
   "cell_type": "code",
   "execution_count": 131,
   "metadata": {},
   "outputs": [],
   "source": [
    "query_tokens.tokens"
   ]
  },
  {
   "cell_type": "code",
   "execution_count": 132,
   "metadata": {},
   "outputs": [],
   "source": [
    "sql2=\"\"\"  SELECT \n",
    "  FE.EVENT_ID\n",
    ", DC.CURR_DATE AS CALENDAR_DT\n",
    ", EV.CHNL_ID\n",
    ", PARTY.PARTY_IDNTFN_NMBR || PARTY.PARTY_IDNTFN_NMBR_SFFX AS PRIMARY_CUSTOMER_ID\n",
    ", FE.ACCT_ID AS AGMT_ID\n",
    ", CARD_EV.ACCS_DVC_ID\n",
    ", EV.TXN_IDNTFN AS TXN_IDNTFN \n",
    ", EV.HST_TXN_CD\n",
    ", NULL AS EVENT_CURR_STATS_CD\n",
    ", FE.DR_CR_CD AS DBT_CRDT_CD\n",
    ", EV.EVENT_ST_DT\n",
    ", TRIM(EV.EVENT_ST_TM) AS EVENT_ST_TM\n",
    ", NULL AS EVENT_END_DT\n",
    ", NULL AS EVENT_END_TM\n",
    ", EV.EVENT_DESC\n",
    ", EV.EVENT_RSN_CD\n",
    ", EV.EVENT_ACTV_TYP_CD AS EVENT_ACTVTY_TYP_CD\n",
    ", FE.FIN_EVENT_TYP_CD\n",
    ", EV.ACCS_DVC_EVENT_IND\n",
    ", EV.INVST_PRDT_EVENT_IND  AS  INVESTMENT_PRDT_EVENT_IND\n",
    ", NULL AS FNDS_TFR_EVENT_IND\n",
    ", EV.EVENT_LOC_CD AS EVENT_LCTN_CD\n",
    ", EV.INFO_SRC_TYP_CD  AS  INFO_SOURCE_TYP_CD \n",
    ", EV_MRCH.MRCH_CNTY_CD  AS  EVENT_CNTRY_CD \n",
    ", FE.EVENT_PSTD_DT \n",
    ", FE.EVENT_VAL_DT\n",
    ", FE.EVENT_CCY_CD AS EVENT_CRNCY_CD\n",
    ",CASE WHEN FE.DR_CR_CD = 'CR' THEN -1*EVENT_AMT WHEN FE.DR_CR_CD = 'DR' THEN EVENT_AMT END AS EVENT_AMT\n",
    ",CASE WHEN FE.DR_CR_CD = 'CR' THEN -1*EVENT_BASE_AMT WHEN FE.DR_CR_CD = 'DR' THEN EVENT_BASE_AMT END  AS EVENT_BSE_AMT  \n",
    ", NULL AS EVENT_TXT\n",
    ", FE.TO_ACCT_ID\n",
    ", EV_MRCH.MRCH_ID AS MRCHNT_ID                       \n",
    ", CU_MCC.MCC_CODE AS MCC   \n",
    ", CU_MCC.MCC_TYPE AS MRCHNT_CTGRY_DESC\n",
    ", CU_MCC.MCC_DESC AS MRCHNT_SRVC_CTGRY_DESC\n",
    ", CARD_EV.AUTHIZATION_VAL AS ACCS_DVC_AUTH_VAL   --CARD_EV.AUTHIZATION_VAL    AS ACCS_DVC_AUTH_VAL \n",
    ",CASE \n",
    " WHEN SUBSTR(MRCH_ID,7,6)='168999' THEN 0  \n",
    " WHEN SUBSTR(MRCH_ID,7,3) IN ('168' ,'700', '800') THEN 1\n",
    " ELSE   0   END  AS  MRCHNT_ON_US_FLG\n",
    ",COALESCE(CU_CC_TXN_TYP.CATEGORY1,CU_DC_TXN_TYP.CATEGORY1,CU_CL_TXN_TYP.CATEGORY_1) AS USR_TXN_CTGRY_1\n",
    ",COALESCE(CU_CC_TXN_TYP.CATEGORY2,CU_DC_TXN_TYP.CATEGORY2,CU_CL_TXN_TYP.CATEGORY_2) AS USR_TXN_CTGRY_2\n",
    ",COALESCE(CU_CC_TXN_TYP.CATEGORY3,CU_DC_TXN_TYP.CATEGORY3,CU_CL_TXN_TYP.CATEGORY_3) AS USR_TXN_CTGRY_3\n",
    ",COALESCE(CU_CC_TXN_TYP.DESCRIPTION,CU_DC_TXN_TYP.DESCRIPTION,CU_CL_TXN_TYP.DESCRIPTION) AS USR_TXN_DESC\n",
    ",CASE WHEN POS_MODE.EVENT_CLAS_VAL_CD = 'CNCTL_TXN' THEN 1 ELSE 0 END  AS   CNTCTLESS_FLG\n",
    ",COALESCE (CU_CC_TXN_TYP. LCL_TXN_IND,CU_DC_TXN_TYP.LCL_TXN_IND,CU_CL_TXN_TYP.LCL_TXN_IND) AS LCL_TXN_IND\n",
    ",CASE WHEN ECOMM.EVENT_CLAS_VAL_CD = 'YES' THEN 1 WHEN ECOMM.EVENT_CLAS_VAL_CD = 'NO' THEN '0' END AS   ECMMRC_FLG\n",
    ", POS_MODE.EVENT_CLAS_VAL_CD AS  PNT_OF_SRVC_VAL_CD      \n",
    ", PARTY.PARTY_ID\n",
    ", EV.ST_DT AS AS_OF_DT\n",
    ", 776500 AS INS_PROC_ID\n",
    ", 110 AS DATA_SOURCE_ID\n",
    "\n",
    "FROM \n",
    "(\n",
    "    SELECT EVENT_ID, EVENT_ST_DT,STRTOK(ACCT_ID,'_',2) AS ORG,ACCT_ID,DR_CR_CD,FIN_EVENT_TYP_CD,EVENT_PSTD_DT,EVENT_VAL_DT,EVENT_CCY_CD,TO_ACCT_ID,EVENT_AMT,EVENT_BASE_AMT\n",
    "    FROM  BIP_VXDB.V0521_FIN_EVENT FE \n",
    "     CROSS JOIN (SELECT  CURRENT_EXTRACTION_DATE AS CURR_DATE  FROM  BIP_ADM_TXFDB.V_DATE_CARD_M6_DC001) DC\n",
    "     WHERE FE.DATA_SOURCE_ID = '110'  AND SUBSTR(EVENT_ID,1,6) = '110028'\n",
    "     AND  FE.EVENT_ST_DT BETWEEN DC.CURR_DATE - 400 AND       DC.CURR_DATE \n",
    ") FE \n",
    "\n",
    "---INNER JOIN  BIP_VXDB.V0500_EVENT EV  ON  FE.EVENT_ID = EV.EVENT_ID AND  FE.EVENT_ST_DT = EV.EVENT_ST_DT \n",
    "\n",
    "INNER JOIN\n",
    "(\n",
    "SELECT \n",
    " EVENT_ID\n",
    " ,CHNL_ID\n",
    ",TXN_IDNTFN \n",
    ",HST_TXN_CD\n",
    ",EVENT_ST_DT\n",
    ",EVENT_ST_TM\n",
    ",EVENT_DESC\n",
    ",EVENT_RSN_CD\n",
    ",EVENT_ACTV_TYP_CD\n",
    ",ACCS_DVC_EVENT_IND\n",
    ",INVST_PRDT_EVENT_IND  \n",
    ",EVENT_LOC_CD \n",
    ",INFO_SRC_TYP_CD\n",
    ",DATA_SOURCE_ID\n",
    ",ST_DT\n",
    "FROM BIP_VXDB.V0500_EVENT \n",
    "CROSS JOIN (SELECT  CURRENT_EXTRACTION_DATE AS CURR_DATE  FROM  BIP_ADM_TXFDB.V_DATE_CARD_M6_DC001) DC\n",
    "WHERE DATA_SOURCE_ID = 110 AND EVENT_ST_DT BETWEEN DC.CURR_DATE - 400 AND  DC.CURR_DATE \n",
    ") EV\n",
    " ON  FE.EVENT_ID = EV.EVENT_ID AND  FE.EVENT_ST_DT = EV.EVENT_ST_DT \n",
    "\n",
    "CROSS JOIN (SELECT  CURRENT_EXTRACTION_DATE AS CURR_DATE  FROM  BIP_ADM_TXFDB.V_DATE_CARD_M6_DC001) DC \n",
    "LEFT OUTER JOIN BIP_VXDB.V0510_ACCS_DVC_EVENT CARD_EV ON FE.EVENT_ID = CARD_EV.EVENT_ID AND CARD_EV.ACCS_DVC_EVENT_RL_TYP_CD = 'TXN_CARD' AND  FE.EVENT_ST_DT = CARD_EV.EVENT_ST_DT \n",
    "LEFT OUTER JOIN BIP_VXDB.V0525X_EVENT_MRCH EV_MRCH ON FE.EVENT_ID = EV_MRCH.EVENT_ID AND FE.EVENT_ST_DT = EV_MRCH.EVENT_ST_DT \n",
    "LEFT OUTER JOIN BIP_VXDB.V7362_EVENT_TO_EVENT_CLAS_VAL POS_MODE ON FE.EVENT_ID = POS_MODE.EVENT_ID AND POS_MODE.EVENT_CLAS_CD = 'POS_ENTR_MD'  AND  FE.EVENT_ST_DT = POS_MODE.EVENT_ST_DT \n",
    "LEFT OUTER JOIN BIP_VXDB.V7362_EVENT_TO_EVENT_CLAS_VAL ECOMM ON FE.EVENT_ID = ECOMM.EVENT_ID AND ECOMM.EVENT_CLAS_CD = 'ECOMM_IND'  AND FE.EVENT_ST_DT = ECOMM.EVENT_ST_DT \n",
    "LEFT OUTER JOIN BIP_VXDB.V3527_PARTY_ACCS_DVC PARTY_CARD ON  CARD_EV.ACCS_DVC_ID = PARTY_CARD.ACCS_DVC_ID AND PARTY_CARD.DATA_SOURCE_ID = 110 AND  CARD_EV.EVENT_ST_DT BETWEEN PARTY_CARD.ST_DT AND PARTY_CARD.END_DT                 \n",
    "LEFT OUTER JOIN BIP_VXDB.V1130_PARTY_IDNTFN PARTY ON PARTY_CARD.PARTY_ID = PARTY.PARTY_ID AND  PARTY.PARTY_IDNTFN_TYP_CD = 'CISCIN' AND PARTY.DATA_SOURCE_ID = '106' AND   DC.CURR_DATE BETWEEN PARTY.ST_DT AND PARTY.END_DT \n",
    "--LEFT OUTER JOIN BIP_VXDB.V0145X_MRCH_CATG MRCH_CAT  ON EV_MRCH.MRCH_CATG_CD = MRCH_CAT.MRCH_CATG_CD\n",
    "LEFT OUTER JOIN BIP_VXDB.VC0R003_CU_MCC_TYP  CU_MCC ON (CAST(EV_MRCH.MRCH_CATG_CD AS INTEGER)=CAST(CU_MCC.MCC_CODE AS INTEGER))          \n",
    "LEFT OUTER JOIN  BIP_VXDB.VC0R104_CU_CC_TXN_TYP CU_CC_TXN_TYP ON CAST(EV.HST_TXN_CD AS INTEGER) = CAST(CU_CC_TXN_TYP.TXN_CODE AS INTEGER)  AND FE.ORG = '702'           \n",
    "LEFT OUTER JOIN  BIP_VXDB.VC0R403_CU_DC_TXN_TYP CU_DC_TXN_TYP ON CAST(EV.HST_TXN_CD AS INTEGER) = CAST(CU_DC_TXN_TYP.TXN_CODE AS INTEGER) AND FE.ORG  IN ( '705','780')\n",
    "LEFT OUTER JOIN BIP_VXDB.VC0R203_CU_CL_TXN_TYP CU_CL_TXN_TYP ON (CAST(EV.HST_TXN_CD AS INTEGER)= CAST(CU_CL_TXN_TYP.TXN_CODE AS INTEGER) AND FE.ORG IN ( '100'))\n",
    "WHERE ((CU_DC_TXN_TYP.CATEGORY4 ='SALES' OR CU_DC_TXN_TYP.CATEGORY1 = 'NET FEES')  OR  (CU_CC_TXN_TYP.CATEGORY4 = 'SALES' OR CU_CC_TXN_TYP.CATEGORY1 = 'NET FEES') )\n",
    "\n",
    "UNION ALL\n",
    "\n",
    "SELECT \n",
    "FE.EVENT_ID\n",
    ",DC.CURR_DATE AS CALENDAR_DT\n",
    ",EV.CHNL_ID\n",
    ", PARTY.PARTY_IDNTFN_NMBR || PARTY.PARTY_IDNTFN_NMBR_SFFX AS PRIMARY_CUSTOMER_ID\n",
    ",FE.ACCT_ID\n",
    ",CARD_EV.ACCS_DVC_ID\n",
    ",EV.TXN_IDNTFN\n",
    ",EV.HST_TXN_CD\n",
    ",NULL AS EVENT_CURR_STATS_CD\n",
    ",FE.DR_CR_CD\n",
    ",EV.EVENT_ST_DT\n",
    ",TRIM(EV.EVENT_ST_TM) \n",
    ",NULL AS EVENT_END_DT\n",
    ",NULL AS EVENT_END_TM\n",
    ",SRVC_PRVDR.  SRVC_PRVDR_PARTY_NM\n",
    ",ES.EVENT_STAT_RSN_CD\n",
    ",EV.EVENT_ACTV_TYP_CD\n",
    ",FE.FIN_EVENT_TYP_CD\n",
    ",EV.ACCS_DVC_EVENT_IND\n",
    ",EV.INVST_PRDT_EVENT_IND\n",
    ",NULL AS FNDS_TFR_EVENT_IND\n",
    ",EV.EVENT_LOC_CD\n",
    ",EV.INFO_SRC_TYP_CD\n",
    ",SRVC_PRVDR.  SCTR_CD\n",
    ",FE.EVENT_PSTD_DT\n",
    ",FE.EVENT_VAL_DT\n",
    ",FE.EVENT_CCY_CD\n",
    ",CASE WHEN FE.DR_CR_CD = 'CR' THEN -1*EVENT_AMT WHEN FE.DR_CR_CD = 'DR' THEN EVENT_AMT END AS EVENT_AMT\n",
    ",CASE WHEN FE.DR_CR_CD = 'CR' THEN -1*EVENT_BASE_AMT WHEN FE.DR_CR_CD = 'DR' THEN EVENT_BASE_AMT END  AS EVENT_BSE_AMT  \n",
    ",NULL  AS EVENT_TXT\n",
    ",FE.TO_ACCT_ID\n",
    ",SRVC_PRVDR.  PARTY_ID  \n",
    ",CAST (NULL  AS  VARCHAR(200))  AS MCC   \n",
    ",CAST (NULL  AS  VARCHAR(200))  AS MRCHNT_CTGRY_DESC\n",
    ",CAST (NULL  AS  VARCHAR(200)) AS MRCHNT_SRVC_CTGRY_DESC  \n",
    ",CARD_EV.AUTHIZATION_VAL\n",
    ",CAST (NULL  AS  INTEGER)  AS  MRCHNT_ON_US_FLG\n",
    ",CAST (NULL  AS  VARCHAR(50)) AS USR_TXN_CTGRY_1\n",
    ",CAST (NULL  AS  VARCHAR(50))AS USR_TXN_CTGRY_2\n",
    ",CAST (NULL  AS  VARCHAR(50)) AS USR_TXN_CTGRY_3\n",
    ",CAST (NULL  AS  VARCHAR(200)) AS USR_TXN_DESC\n",
    ",CAST (NULL  AS  INTEGER) AS CNTCTLESS_FLG\n",
    ",CAST (NULL  AS  INTEGER) AS LCL_TXN_IND\n",
    ",CAST (NULL  AS  CHAR(20)) AS ECMMRC_FLG\n",
    ",CAST (NULL  AS  CHAR(20)) AS PNT_OF_SRVC_VAL_CD      \n",
    ",PARTY.PARTY_ID\n",
    ",EV.ST_DT AS AS_OF_DT\n",
    ",776500 AS INS_PROC_ID\n",
    ",114 AS DATA_SOURCE_ID\n",
    "FROM \n",
    "\n",
    "(SELECT * FROM \n",
    "BIP_VXDB.V0521_FIN_EVENT FE\n",
    "CROSS JOIN (SELECT  CURRENT_EXTRACTION_DATE AS CURR_DATE  FROM  BIP_ADM_TXFDB.V_DATE_CARD_M6_DC001) DC\n",
    "WHERE FE.DATA_SOURCE_ID = '114'  \n",
    "AND  FE.EVENT_ST_DT BETWEEN DC.CURR_DATE - 400 AND       DC.CURR_DATE \n",
    ")\n",
    "FE\n",
    "CROSS JOIN (SELECT  CURRENT_EXTRACTION_DATE AS CURR_DATE  FROM  BIP_ADM_TXFDB.V_DATE_CARD_M6_DC001) DC\n",
    "---INNER JOIN  BIP_VXDB.V0500_EVENT EV  ON  FE.EVENT_ID = EV.EVENT_ID AND  FE.EVENT_ST_DT = EV.EVENT_ST_DT \n",
    "INNER JOIN\n",
    "(\n",
    "SELECT \n",
    "EVENT_ID\n",
    ",CHNL_ID\n",
    ",TXN_IDNTFN \n",
    ",HST_TXN_CD\n",
    ",EVENT_ST_DT\n",
    ",EVENT_ST_TM \n",
    ",EVENT_DESC\n",
    ",EVENT_RSN_CD\n",
    ",EVENT_ACTV_TYP_CD\n",
    ",ACCS_DVC_EVENT_IND\n",
    ",INVST_PRDT_EVENT_IND  \n",
    ",EVENT_LOC_CD \n",
    ",INFO_SRC_TYP_CD\n",
    ",DATA_SOURCE_ID\n",
    ",ST_DT\n",
    "FROM BIP_VXDB.V0500_EVENT \n",
    "CROSS JOIN (SELECT  CURRENT_EXTRACTION_DATE AS CURR_DATE  FROM  BIP_ADM_TXFDB.V_DATE_CARD_M6_DC001) DC\n",
    "WHERE DATA_SOURCE_ID = 114 AND EVENT_ST_DT BETWEEN DC.CURR_DATE - 400 AND  DC.CURR_DATE \n",
    ") EV\n",
    "ON  FE.EVENT_ID = EV.EVENT_ID AND  FE.EVENT_ST_DT = EV.EVENT_ST_DT \n",
    "\n",
    "LEFT OUTER JOIN  BIP_VXDB.V0510_ACCS_DVC_EVENT CARD_EV ON  FE.EVENT_ID = CARD_EV.EVENT_ID AND CARD_EV.ACCS_DVC_EVENT_RL_TYP_CD = 'TXN_CARD' AND  FE.EVENT_ST_DT = CARD_EV.EVENT_ST_DT \n",
    "LEFT OUTER JOIN  BIP_VXDB.V3527_PARTY_ACCS_DVC PARTY_CARD ON CARD_EV.ACCS_DVC_ID = PARTY_CARD.ACCS_DVC_ID AND PARTY_CARD.DATA_SOURCE_ID IN  (110,106) AND  CARD_EV.EVENT_ST_DT BETWEEN PARTY_CARD.ST_DT AND PARTY_CARD.END_DT        \n",
    "LEFT OUTER JOIN  BIP_VXDB.V1130_PARTY_IDNTFN PARTY ON PARTY_CARD.PARTY_ID = PARTY.PARTY_ID AND  PARTY.PARTY_IDNTFN_TYP_CD = 'CISCIN' AND PARTY.DATA_SOURCE_ID = '106' AND   DC.CURR_DATE  BETWEEN PARTY.ST_DT AND PARTY.END_DT \n",
    "LEFT OUTER JOIN BIP_VXDB.V0502_EVENT_PARTY EVENT_PARTY ON FE.EVENT_ID = EVENT_PARTY.EVENT_ID AND EVENT_PARTY.EVENT_PARTY_RL_CD = 'RTLR' AND  FE.EVENT_ST_DT = EVENT_PARTY.EVENT_ST_DT  AND EVENT_PARTY.DATA_SOURCE_ID=114\n",
    "LEFT OUTER JOIN BIP_VXDB.V2143X_SRVC_PRVDR SRVC_PRVDR ON EVENT_PARTY.PARTY_ID = SRVC_PRVDR.PARTY_ID AND SRVC_PRVDR.DATA_SOURCE_ID=114 AND DC.CURR_DATE  BETWEEN SRVC_PRVDR.ST_DT AND SRVC_PRVDR.END_DT\n",
    "LEFT OUTER JOIN BIP_VXDB.V7360_EVENT_STAT ES  ON  FE.EVENT_ID = ES.EVENT_ID AND  FE.EVENT_ST_DT = ES.EVENT_ST_DT \n",
    "WHERE EV.DATA_SOURCE_ID = '114'  \n",
    "AND  EV.EVENT_ST_DT BETWEEN  DC.CURR_DATE - 400 AND       DC.CURR_DATE \n",
    "\n",
    "UNION ALL\n",
    "\n",
    "SELECT \n",
    "FE.EVENT_ID\n",
    ",DC.CURR_DATE AS CALENDAR_DT\n",
    ",EV.CHNL_ID\n",
    ", PTY_ID.PARTY_IDNTFN_NMBR || PTY_ID.PARTY_IDNTFN_NMBR_SFFX AS PRIMARY_CUSTOMER_ID\n",
    ",FE.ACCT_ID\n",
    ",CAST (NULL  AS  VARCHAR(255))AS ACCS_DVC_ID \n",
    ",EV.TXN_IDNTFN\n",
    ",EV.HST_TXN_CD\n",
    ",NULL AS EVENT_CURR_STATS_CD\n",
    ",FE.DR_CR_CD\n",
    ",EV.EVENT_ST_DT\n",
    ",TRIM(EV.EVENT_ST_TM) \n",
    ",NULL AS EVENT_END_DT\n",
    ",NULL AS EVENT_END_TM\n",
    ",TXT.EVENT_TXT AS EVENT_DESC\n",
    ",EV.EVENT_RSN_CD\n",
    ",EV.EVENT_ACTV_TYP_CD\n",
    ",FE.FIN_EVENT_TYP_CD\n",
    ",EV.ACCS_DVC_EVENT_IND\n",
    ",EV.INVST_PRDT_EVENT_IND\n",
    ",NULL AS FNDS_TFR_EVENT_IND\n",
    ",EV.EVENT_LOC_CD\n",
    ",EV.INFO_SRC_TYP_CD\n",
    ",CAST (NULL  AS  CHAR(20)) AS   EVENT_CNTRY_CD \n",
    ",FE.EVENT_PSTD_DT\n",
    ",FE.EVENT_VAL_DT\n",
    ",FE.EVENT_CCY_CD\n",
    ",CASE WHEN FE.DR_CR_CD = 'CR' THEN -1*EVENT_AMT WHEN FE.DR_CR_CD = 'DR' THEN EVENT_AMT END AS EVENT_AMT\n",
    ",CASE WHEN FE.DR_CR_CD = 'CR' THEN -1*EVENT_BASE_AMT WHEN FE.DR_CR_CD = 'DR' THEN EVENT_BASE_AMT END  AS EVENT_BSE_AMT  \n",
    ",NULL AS EVENT_TXT\n",
    ",FE.TO_ACCT_ID\n",
    ",CAST (NULL  AS  CHAR(255)) AS MRCHNT_ID\n",
    ",CAST (NULL  AS  VARCHAR(200))  AS MCC   \n",
    ",CAST (NULL  AS  VARCHAR(200))  AS MRCHNT_CTGRY_DESC\n",
    ",CAST (NULL  AS  VARCHAR(200)) AS MRCHNT_SRVC_CTGRY_DESC    \n",
    ",CAST (NULL  AS  VARCHAR(200)) AS ACCS_DVC_AUTH_VAL\n",
    ",CAST (NULL  AS  INTEGER)  AS  MRCHNT_ON_US_FLG\n",
    ",CAST (NULL  AS  VARCHAR(50)) AS USR_TXN_CTGRY_1\n",
    ",CAST (NULL  AS  VARCHAR(50))AS USR_TXN_CTGRY_2\n",
    ",CAST (NULL  AS  VARCHAR(50)) AS USR_TXN_CTGRY_3\n",
    ",CAST (NULL  AS  VARCHAR(200)) AS USR_TXN_DESC\n",
    ",CAST (NULL  AS  INTEGER) AS CNTCTLESS_FLG\n",
    ",CAST (NULL  AS  INTEGER) AS LCL_TXN_IND\n",
    ",CAST (NULL  AS  CHAR(20)) AS ECMMRC_FLG\n",
    ",CAST (NULL  AS  CHAR(20)) AS PNT_OF_SRVC_VAL_CD      \n",
    ",AGMT_PARTY.PARTY_ID\n",
    ",EV.ST_DT AS AS_OF_DT\n",
    ",776500 AS INS_PROC_ID\n",
    ",113 AS DATA_SOURCE_ID\n",
    "FROM \n",
    "\n",
    "(SELECT * FROM \n",
    "BIP_VXDB.V0521_FIN_EVENT FE\n",
    "CROSS JOIN (SELECT  CURRENT_EXTRACTION_DATE AS CURR_DATE  FROM  BIP_ADM_TXFDB.V_DATE_CARD_M6_DC001) DC\n",
    "WHERE FE.DATA_SOURCE_ID = '113'  \n",
    "AND  FE.EVENT_ST_DT BETWEEN DC.CURR_DATE  - 400 AND CURR_DATE\n",
    ")\n",
    "FE\n",
    "CROSS JOIN (SELECT  CURRENT_EXTRACTION_DATE AS CURR_DATE  FROM  BIP_ADM_TXFDB.V_DATE_CARD_M6_DC001) DC\n",
    "\n",
    "----INNER JOIN  BIP_VXDB.V0500_EVENT EV  ON  FE.EVENT_ID = EV.EVENT_ID AND  FE.EVENT_ST_DT = EV.EVENT_ST_DT \n",
    "INNER JOIN\n",
    "(\n",
    "SELECT \n",
    " EVENT_ID\n",
    ", CHNL_ID\n",
    ",TXN_IDNTFN \n",
    ",HST_TXN_CD\n",
    ",EVENT_ST_DT\n",
    ",EVENT_ST_TM\n",
    ",EVENT_DESC\n",
    ",EVENT_RSN_CD\n",
    ",EVENT_ACTV_TYP_CD\n",
    ",ACCS_DVC_EVENT_IND\n",
    ",INVST_PRDT_EVENT_IND  \n",
    ",EVENT_LOC_CD \n",
    ",INFO_SRC_TYP_CD\n",
    ",DATA_SOURCE_ID\n",
    ",ST_DT\n",
    "FROM BIP_VXDB.V0500_EVENT \n",
    "CROSS JOIN (SELECT  CURRENT_EXTRACTION_DATE AS CURR_DATE  FROM  BIP_ADM_TXFDB.V_DATE_CARD_M6_DC001) DC\n",
    "WHERE DATA_SOURCE_ID = 113 AND EVENT_ST_DT BETWEEN DC.CURR_DATE - 400 AND  DC.CURR_DATE \n",
    ") EV\n",
    " ON  FE.EVENT_ID = EV.EVENT_ID AND  FE.EVENT_ST_DT = EV.EVENT_ST_DT \n",
    "\n",
    "LEFT OUTER JOIN BIP_VXDB.V0529X_EVENT_TXT      TXT ON        FE.EVENT_ID = TXT.EVENT_ID AND  FE.EVENT_ST_DT = TXT.EVENT_ST_DT    AND TXT_TYP_CD='ADDNL_TXN_REF_TXT' \n",
    "INNER JOIN BIP_VXDB.V0328_AGMT_PARTY AGMT_PARTY ON FE.ACCT_ID = AGMT_PARTY.ACCT_ID AND AGMT_PARTY.DATA_SOURCE_ID = 106 AND AGMT_PARTY.AGMT_PARTY_RL_CD ='ACCT_HLDR' AND  DC.CURR_DATE  BETWEEN AGMT_PARTY.ST_DT AND AGMT_PARTY.END_DT\n",
    "INNER JOIN BIP_VXDB.V1130_PARTY_IDNTFN PTY_ID \n",
    "  ON AGMT_PARTY.PARTY_ID=PTY_ID.PARTY_ID\n",
    "  AND PTY_ID.PARTY_IDNTFN_TYP_CD =  'CISCIN'\n",
    "  AND PTY_ID.PARTY_IDNTFN_CATG_CD = 'PERSONAL' \n",
    "  AND DC.CURR_DATE BETWEEN PTY_ID.ST_DT AND PTY_ID.END_DT\n",
    "WHERE EV.DATA_SOURCE_ID = '113'  \n",
    "AND  EV.EVENT_ST_DT BETWEEN DC.CURR_DATE  - 400 AND DC.CURR_DATE\n",
    "\n",
    "UNION ALL\n",
    "\n",
    "SELECT \n",
    "FE.EVENT_ID\n",
    ",DC.CURR_DATE AS CALENDAR_DT\n",
    ",EV.CHNL_ID\n",
    ", PTY_ID.PARTY_IDNTFN_NMBR || PTY_ID.PARTY_IDNTFN_NMBR_SFFX AS PRIMARY_CUSTOMER_ID\n",
    ",FE.ACCT_ID\n",
    ",CAST (NULL  AS  VARCHAR(255))AS ACCS_DVC_ID \n",
    ",EV.TXN_IDNTFN\n",
    ",EV.HST_TXN_CD\n",
    ",NULL AS EVENT_CURR_STATS_CD\n",
    ",FE.DR_CR_CD\n",
    ",EV.EVENT_ST_DT\n",
    ",TRIM(EV.EVENT_ST_TM) \n",
    ",NULL AS EVENT_END_DT\n",
    ",NULL AS EVENT_END_TM\n",
    ",TXT.EVENT_TXT|| TXT1.EVENT_TXT AS EVENT_DESC\n",
    ",EV.EVENT_RSN_CD\n",
    ",EV.EVENT_ACTV_TYP_CD\n",
    ",FE.FIN_EVENT_TYP_CD\n",
    ",EV.ACCS_DVC_EVENT_IND\n",
    ",EV.INVST_PRDT_EVENT_IND\n",
    ",NULL AS FNDS_TFR_EVENT_IND\n",
    ",EV.EVENT_LOC_CD\n",
    ",EV.INFO_SRC_TYP_CD\n",
    ",CAST (NULL  AS  CHAR(20)) AS   EVENT_CNTRY_CD \n",
    ",FE.EVENT_PSTD_DT\n",
    ",FE.EVENT_VAL_DT\n",
    ",FE.EVENT_CCY_CD\n",
    ",CASE WHEN FE.DR_CR_CD = 'CR' THEN -1*EVENT_AMT WHEN FE.DR_CR_CD = 'DR' THEN EVENT_AMT END AS EVENT_AMT\n",
    ",CASE WHEN FE.DR_CR_CD = 'CR' THEN -1*EVENT_BASE_AMT WHEN FE.DR_CR_CD = 'DR' THEN EVENT_BASE_AMT END  AS EVENT_BSE_AMT  \n",
    ",NULL AS EVENT_TXT\n",
    ",FE.TO_ACCT_ID\n",
    ",CAST (NULL  AS  CHAR(255)) AS MRCHNT_ID\n",
    ",CAST (NULL  AS  VARCHAR(200))  AS MCC   \n",
    ",CAST (NULL  AS  VARCHAR(200))  AS MRCHNT_CTGRY_DESC\n",
    ",CAST (NULL  AS  VARCHAR(200)) AS MRCHNT_SRVC_CTGRY_DESC    \n",
    ",CAST (NULL  AS  VARCHAR(200)) AS ACCS_DVC_AUTH_VAL\n",
    ",CAST (NULL  AS  INTEGER)  AS  MRCHNT_ON_US_FLG\n",
    ",CAST (NULL  AS  VARCHAR(50)) AS USR_TXN_CTGRY_1\n",
    ",CAST (NULL  AS  VARCHAR(50))AS USR_TXN_CTGRY_2\n",
    ",CAST (NULL  AS  VARCHAR(50)) AS USR_TXN_CTGRY_3\n",
    ",CAST (NULL  AS  VARCHAR(200)) AS USR_TXN_DESC\n",
    ",CAST (NULL  AS  INTEGER) AS CNTCTLESS_FLG\n",
    ",CAST (NULL  AS  INTEGER) AS LCL_TXN_IND\n",
    ",CAST (NULL  AS  CHAR(20)) AS ECMMRC_FLG\n",
    ",CAST (NULL  AS  CHAR(20)) AS PNT_OF_SRVC_VAL_CD      \n",
    ",AGMT_PARTY.PARTY_ID\n",
    ",EV.ST_DT AS AS_OF_DT\n",
    ",776500 AS INS_PROC_ID\n",
    ",105 AS DATA_SOURCE_ID\n",
    "FROM \n",
    "\n",
    "(SELECT * FROM \n",
    "BIP_VXDB.V0521_FIN_EVENT FE\n",
    "CROSS JOIN (SELECT  CURRENT_EXTRACTION_DATE AS CURR_DATE  FROM  BIP_ADM_TXFDB.V_DATE_CARD_M6_DC001) DC\n",
    "WHERE FE.DATA_SOURCE_ID = '105'  \n",
    "AND  FE.EVENT_ST_DT BETWEEN DC.CURR_DATE  - 400 AND CURR_DATE\n",
    ")\n",
    "FE\n",
    "CROSS JOIN (SELECT  CURRENT_EXTRACTION_DATE AS CURR_DATE  FROM  BIP_ADM_TXFDB.V_DATE_CARD_M6_DC001) DC\n",
    "---INNER JOIN  BIP_VXDB.V0500_EVENT EV  ON  FE.EVENT_ID = EV.EVENT_ID AND  FE.EVENT_ST_DT = EV.EVENT_ST_DT \n",
    "INNER JOIN\n",
    "(\n",
    "SELECT \n",
    "EVENT_ID\n",
    ",CHNL_ID\n",
    ",TXN_IDNTFN \n",
    ",HST_TXN_CD\n",
    ",EVENT_ST_DT\n",
    ",EVENT_ST_TM\n",
    ",EVENT_DESC\n",
    ",EVENT_RSN_CD\n",
    ",EVENT_ACTV_TYP_CD\n",
    ",ACCS_DVC_EVENT_IND\n",
    ",INVST_PRDT_EVENT_IND  \n",
    ",EVENT_LOC_CD \n",
    ",INFO_SRC_TYP_CD\n",
    ",DATA_SOURCE_ID\n",
    ",ST_DT\n",
    "FROM BIP_VXDB.V0500_EVENT \n",
    "CROSS JOIN (SELECT  CURRENT_EXTRACTION_DATE AS CURR_DATE  FROM  BIP_ADM_TXFDB.V_DATE_CARD_M6_DC001) DC\n",
    "WHERE DATA_SOURCE_ID = 105 AND EVENT_ST_DT BETWEEN DC.CURR_DATE - 400 AND  DC.CURR_DATE \n",
    ") EV\n",
    " ON  FE.EVENT_ID = EV.EVENT_ID AND  FE.EVENT_ST_DT = EV.EVENT_ST_DT \n",
    "LEFT OUTER JOIN BIP_VXDB.V0529X_EVENT_TXT      TXT ON        FE.EVENT_ID = TXT.EVENT_ID AND  FE.EVENT_ST_DT = TXT.EVENT_ST_DT    AND TXT. TXT_TYP_CD='ADDNL_TXN_REF_TXT' \n",
    "LEFT OUTER JOIN BIP_VXDB.V0529X_EVENT_TXT      TXT1  ON        FE.EVENT_ID = TXT1.EVENT_ID AND  FE.EVENT_ST_DT = TXT1.EVENT_ST_DT    AND TXT1. TXT_TYP_CD='CLNT_REF' \n",
    "INNER JOIN BIP_VXDB.V0328_AGMT_PARTY AGMT_PARTY ON FE.ACCT_ID = AGMT_PARTY.ACCT_ID AND AGMT_PARTY.DATA_SOURCE_ID = 106 AND AGMT_PARTY.AGMT_PARTY_RL_CD ='ACCT_HLDR' AND DC.CURR_DATE BETWEEN AGMT_PARTY.ST_DT AND AGMT_PARTY.END_DT\n",
    "INNER JOIN BIP_VXDB.V1130_PARTY_IDNTFN PTY_ID \n",
    "  ON AGMT_PARTY.PARTY_ID=PTY_ID.PARTY_ID\n",
    "  AND PTY_ID.PARTY_IDNTFN_TYP_CD =  'CISCIN'\n",
    "  AND PTY_ID.PARTY_IDNTFN_CATG_CD = 'PERSONAL' \n",
    "  AND DC.CURR_DATE BETWEEN PTY_ID.ST_DT AND PTY_ID.END_DT\n",
    "WHERE EV.DATA_SOURCE_ID = '105'  \n",
    "AND  EV.EVENT_ST_DT BETWEEN DC.CURR_DATE  - 400 AND DC.CURR_DATE;\n",
    "\n",
    "\"\"\""
   ]
  },
  {
   "cell_type": "code",
   "execution_count": 133,
   "metadata": {},
   "outputs": [],
   "source": [
    "sql"
   ]
  },
  {
   "cell_type": "code",
   "execution_count": 134,
   "metadata": {},
   "outputs": [],
   "source": [
    "sql = sql2"
   ]
  },
  {
   "cell_type": "code",
   "execution_count": 135,
   "metadata": {},
   "outputs": [],
   "source": [
    "stmt2=sqlparse.parse(sql)"
   ]
  },
  {
   "cell_type": "code",
   "execution_count": 136,
   "metadata": {},
   "outputs": [],
   "source": [
    "stmt2"
   ]
  },
  {
   "cell_type": "code",
   "execution_count": 137,
   "metadata": {},
   "outputs": [],
   "source": [
    "stmt2.tokens"
   ]
  },
  {
   "cell_type": "code",
   "execution_count": 138,
   "metadata": {},
   "outputs": [],
   "source": [
    "stmt2=sqlparse.parse(sql)[0]"
   ]
  },
  {
   "cell_type": "code",
   "execution_count": 139,
   "metadata": {},
   "outputs": [],
   "source": [
    "stmt2.tokens"
   ]
  },
  {
   "cell_type": "code",
   "execution_count": 140,
   "metadata": {},
   "outputs": [],
   "source": [
    "for token in query_tokens.tokens:if isinstance(token, Where)"
   ]
  },
  {
   "cell_type": "code",
   "execution_count": 141,
   "metadata": {},
   "outputs": [],
   "source": [
    "for token in query_tokens.tokens:if isinstance(token, Where)"
   ]
  },
  {
   "cell_type": "code",
   "execution_count": 142,
   "metadata": {},
   "outputs": [],
   "source": [
    "for token in stmt2.tokens:\n",
    "    if isinstance(token, Where)"
   ]
  },
  {
   "cell_type": "code",
   "execution_count": 143,
   "metadata": {},
   "outputs": [],
   "source": [
    "for token in stmt2.tokens:\n",
    "    if isinstance(token, Where):\n",
    "        print token\n",
    "        \n",
    "        "
   ]
  },
  {
   "cell_type": "code",
   "execution_count": 144,
   "metadata": {},
   "outputs": [],
   "source": [
    "for token in stmt2.tokens:\n",
    "    if isinstance(token, Where,Comparison):\n",
    "        print token\n",
    "        \n",
    "        "
   ]
  },
  {
   "cell_type": "code",
   "execution_count": 145,
   "metadata": {},
   "outputs": [],
   "source": [
    "for token in stmt2.tokens:\n",
    "    if isinstance(token, [Where,Comparison]):\n",
    "        print token\n",
    "        \n",
    "        "
   ]
  },
  {
   "cell_type": "code",
   "execution_count": 146,
   "metadata": {},
   "outputs": [],
   "source": [
    "isinstance?"
   ]
  },
  {
   "cell_type": "code",
   "execution_count": 147,
   "metadata": {},
   "outputs": [],
   "source": [
    "for token in stmt2.tokens:\n",
    "    if isinstance(token, (Where,Comparison)):\n",
    "        print token\n",
    "        \n",
    "        "
   ]
  },
  {
   "cell_type": "code",
   "execution_count": 148,
   "metadata": {},
   "outputs": [],
   "source": [
    "dir(sqlparse.sql)"
   ]
  },
  {
   "cell_type": "code",
   "execution_count": 149,
   "metadata": {},
   "outputs": [],
   "source": [
    "for token in stmt2.tokens:\n",
    "    if isinstance(token, (Identifier)):\n",
    "        print token\n",
    "        \n",
    "        "
   ]
  },
  {
   "cell_type": "code",
   "execution_count": 150,
   "metadata": {},
   "outputs": [],
   "source": [
    "from sqlparse.sql import Identifier"
   ]
  },
  {
   "cell_type": "code",
   "execution_count": 151,
   "metadata": {},
   "outputs": [],
   "source": [
    "for token in stmt2.tokens:\n",
    "    if isinstance(token, (Identifier)):\n",
    "        print token\n",
    "        \n",
    "        "
   ]
  },
  {
   "cell_type": "code",
   "execution_count": 152,
   "metadata": {},
   "outputs": [],
   "source": [
    "for token in stmt2.tokens[0:1]:\n",
    "    if isinstance(token, (Identifier)):\n",
    "        print token\n",
    "        \n",
    "        "
   ]
  },
  {
   "cell_type": "code",
   "execution_count": 153,
   "metadata": {},
   "outputs": [],
   "source": [
    "for token in stmt2.tokens[0:2]:\n",
    "    if isinstance(token, (Identifier)):\n",
    "        print token\n",
    "        \n",
    "        "
   ]
  },
  {
   "cell_type": "code",
   "execution_count": 154,
   "metadata": {},
   "outputs": [],
   "source": [
    "for token in stmt2.tokens:\n",
    "    if isinstance(token, (Identifier)):\n",
    "        print token\n",
    "        \n",
    "        "
   ]
  },
  {
   "cell_type": "code",
   "execution_count": 155,
   "metadata": {},
   "outputs": [],
   "source": [
    "for token in stmt2.tokens[0:]:\n",
    "    if isinstance(token, (Identifier)):\n",
    "        print token\n",
    "        \n",
    "        "
   ]
  },
  {
   "cell_type": "code",
   "execution_count": 156,
   "metadata": {},
   "outputs": [],
   "source": [
    "for token in stmt2.tokens:\n",
    "    if isinstance(token, (Identifier)):\n",
    "        print token\n",
    "        \n",
    "        "
   ]
  },
  {
   "cell_type": "code",
   "execution_count": 157,
   "metadata": {},
   "outputs": [],
   "source": [
    "i = 0"
   ]
  },
  {
   "cell_type": "code",
   "execution_count": 158,
   "metadata": {},
   "outputs": [],
   "source": [
    "for token in stmt2.tokens:\n",
    "    if isinstance(token, (Identifier)):\n",
    "        i++\n",
    "        print (i, 'times',token)\n",
    "\n",
    "        \n",
    "        "
   ]
  },
  {
   "cell_type": "code",
   "execution_count": 159,
   "metadata": {},
   "outputs": [],
   "source": [
    "for token in stmt2.tokens:\n",
    "    if isinstance(token, (Identifier)):\n",
    "        i+=1\n",
    "        print (i, 'times',token)\n",
    "\n",
    "        \n",
    "        "
   ]
  },
  {
   "cell_type": "code",
   "execution_count": 160,
   "metadata": {},
   "outputs": [],
   "source": [
    "for token in stmt2.tokens:\n",
    "    if isinstance(token, (Identifier)):\n",
    "        identifierL.append(token)\n",
    "        \n",
    "\n",
    "        \n",
    "        "
   ]
  },
  {
   "cell_type": "code",
   "execution_count": 161,
   "metadata": {},
   "outputs": [],
   "source": [
    "identifierL = []"
   ]
  },
  {
   "cell_type": "code",
   "execution_count": 162,
   "metadata": {},
   "outputs": [],
   "source": [
    "for token in stmt2.tokens:\n",
    "    if isinstance(token, (Identifier)):\n",
    "        identifierL.append(token)\n",
    "        \n",
    "\n",
    "        \n",
    "        "
   ]
  },
  {
   "cell_type": "code",
   "execution_count": 163,
   "metadata": {},
   "outputs": [],
   "source": [
    "identifierL"
   ]
  },
  {
   "cell_type": "code",
   "execution_count": 164,
   "metadata": {},
   "outputs": [],
   "source": [
    "identifierL[0]"
   ]
  },
  {
   "cell_type": "code",
   "execution_count": 165,
   "metadata": {},
   "outputs": [],
   "source": [
    "print identifierL[0]"
   ]
  },
  {
   "cell_type": "code",
   "execution_count": 166,
   "metadata": {},
   "outputs": [],
   "source": [
    "identifierL[0].get_real_name()"
   ]
  },
  {
   "cell_type": "code",
   "execution_count": 167,
   "metadata": {},
   "outputs": [],
   "source": [
    "identifierL[0].get_name()"
   ]
  },
  {
   "cell_type": "code",
   "execution_count": 168,
   "metadata": {},
   "outputs": [],
   "source": [
    "for i identifierL:"
   ]
  },
  {
   "cell_type": "code",
   "execution_count": 169,
   "metadata": {},
   "outputs": [],
   "source": [
    "for i in identifierL:\n",
    "    print i.get_name()\n",
    "    print i.get_real_name()\n",
    "    "
   ]
  },
  {
   "cell_type": "code",
   "execution_count": 170,
   "metadata": {},
   "outputs": [],
   "source": [
    "for i in identifierL:\n",
    "    print i.get_name, '||', i.get_real_name()\n",
    "    \n",
    "    "
   ]
  },
  {
   "cell_type": "code",
   "execution_count": 171,
   "metadata": {},
   "outputs": [],
   "source": [
    "for i in identifierL:\n",
    "    print i.get_name(), '||', i.get_real_name()\n",
    "    \n",
    "    "
   ]
  },
  {
   "cell_type": "code",
   "execution_count": 172,
   "metadata": {},
   "outputs": [],
   "source": [
    "for i in identifierL:\n",
    "    rnm = i.get_real_name()\n",
    "    nm = i.get_name()\n",
    "    if rnm == nm:\n",
    "      print identifierD[nm] = rnm\n",
    "\n",
    "    \n",
    "    "
   ]
  },
  {
   "cell_type": "code",
   "execution_count": 173,
   "metadata": {},
   "outputs": [],
   "source": [
    "identifierD = {}"
   ]
  },
  {
   "cell_type": "code",
   "execution_count": 174,
   "metadata": {},
   "outputs": [],
   "source": [
    "for i in identifierL:\n",
    "    rnm = i.get_real_name()\n",
    "    nm = i.get_name()\n",
    "    if rnm == nm:\n",
    "      print identifierD[nm] = rnm\n",
    "\n",
    "    \n",
    "    "
   ]
  },
  {
   "cell_type": "code",
   "execution_count": 175,
   "metadata": {},
   "outputs": [],
   "source": [
    "for i in identifierL:\n",
    "    rnm = i.get_real_name()\n",
    "    nm = i.get_name()\n",
    "    if rnm == nm:\n",
    "      identifierD[nm] = rnm\n",
    "\n",
    "    \n",
    "    "
   ]
  },
  {
   "cell_type": "code",
   "execution_count": 176,
   "metadata": {},
   "outputs": [],
   "source": [
    "identifierD"
   ]
  },
  {
   "cell_type": "code",
   "execution_count": 177,
   "metadata": {},
   "outputs": [],
   "source": [
    "for i in identifierL:\n",
    "    rnm = i.get_real_name()\n",
    "    nm = i.get_name()\n",
    "    if rnm != nm:\n",
    "      identifierD[nm] = rnm\n",
    "\n",
    "    \n",
    "    "
   ]
  },
  {
   "cell_type": "code",
   "execution_count": 178,
   "metadata": {},
   "outputs": [],
   "source": [
    "identifierD"
   ]
  },
  {
   "cell_type": "code",
   "execution_count": 179,
   "metadata": {},
   "outputs": [],
   "source": [
    "for i in identifierL:\n",
    "    rnm = i.get_real_name()\n",
    "    nm = i.get_name()\n",
    "    if rnm != nm: identifierD[nm] = rnm\n",
    "\n",
    "    \n",
    "    "
   ]
  },
  {
   "cell_type": "code",
   "execution_count": 180,
   "metadata": {},
   "outputs": [],
   "source": [
    "identifierD={}"
   ]
  },
  {
   "cell_type": "code",
   "execution_count": 181,
   "metadata": {},
   "outputs": [],
   "source": [
    "for i in identifierL:\n",
    "    rnm = i.get_real_name()\n",
    "    nm = i.get_name()\n",
    "    if rnm != nm: identifierD[nm] = rnm\n",
    "\n",
    "    \n",
    "    "
   ]
  },
  {
   "cell_type": "code",
   "execution_count": 182,
   "metadata": {},
   "outputs": [],
   "source": [
    "identifierD"
   ]
  },
  {
   "cell_type": "code",
   "execution_count": 183,
   "metadata": {},
   "outputs": [],
   "source": [
    "stmt2.tokens"
   ]
  },
  {
   "cell_type": "code",
   "execution_count": 184,
   "metadata": {},
   "outputs": [],
   "source": [
    "len(stmt2.tokens)"
   ]
  },
  {
   "cell_type": "code",
   "execution_count": 185,
   "metadata": {},
   "outputs": [],
   "source": [
    "for token in stmt2.tokens:\n",
    "    if isinstance(token, (Keyword)):\n",
    "        identifierL.append(token)\n",
    "        \n",
    "\n",
    "        \n",
    "        "
   ]
  },
  {
   "cell_type": "code",
   "execution_count": 186,
   "metadata": {},
   "outputs": [],
   "source": [
    "from sqlparse.sql import Keyword"
   ]
  },
  {
   "cell_type": "code",
   "execution_count": 187,
   "metadata": {},
   "outputs": [],
   "source": [
    "stmt2.tokens"
   ]
  },
  {
   "cell_type": "code",
   "execution_count": 188,
   "metadata": {},
   "outputs": [],
   "source": [
    "stmt2.tokens[-5]"
   ]
  },
  {
   "cell_type": "code",
   "execution_count": 189,
   "metadata": {},
   "outputs": [],
   "source": [
    "keyword = stmt2.tokens[-5]"
   ]
  },
  {
   "cell_type": "code",
   "execution_count": 190,
   "metadata": {},
   "outputs": [],
   "source": [
    "keyword.ttype"
   ]
  },
  {
   "cell_type": "code",
   "execution_count": 191,
   "metadata": {},
   "outputs": [],
   "source": [
    "type(keyword)"
   ]
  },
  {
   "cell_type": "code",
   "execution_count": 192,
   "metadata": {},
   "outputs": [],
   "source": [
    "print keyword"
   ]
  },
  {
   "cell_type": "code",
   "execution_count": 193,
   "metadata": {},
   "outputs": [],
   "source": [
    "keyword.flatten()"
   ]
  },
  {
   "cell_type": "code",
   "execution_count": 194,
   "metadata": {},
   "outputs": [],
   "source": [
    "for i in keyword.flatten():\n",
    "    print i\n",
    "    "
   ]
  },
  {
   "cell_type": "code",
   "execution_count": 195,
   "metadata": {},
   "outputs": [],
   "source": [
    "stmt2.tokens[-4]"
   ]
  },
  {
   "cell_type": "code",
   "execution_count": 196,
   "metadata": {},
   "outputs": [],
   "source": [
    "stmt2.tokens[-3]"
   ]
  },
  {
   "cell_type": "code",
   "execution_count": 197,
   "metadata": {},
   "outputs": [],
   "source": [
    "stmt2.tokens[-2]"
   ]
  },
  {
   "cell_type": "code",
   "execution_count": 198,
   "metadata": {},
   "outputs": [],
   "source": [
    "stmt2.tokens[-1]"
   ]
  },
  {
   "cell_type": "code",
   "execution_count": 199,
   "metadata": {},
   "outputs": [],
   "source": [
    "stmt2.tokens"
   ]
  },
  {
   "cell_type": "code",
   "execution_count": 200,
   "metadata": {},
   "outputs": [],
   "source": [
    "for token in stmt2.tokens:\n",
    "    if isinstance(token, Where):\n",
    "        print token\n",
    "        \n",
    "        "
   ]
  },
  {
   "cell_type": "code",
   "execution_count": 201,
   "metadata": {},
   "outputs": [],
   "source": [
    "where = next(token for token in stmt.tokens if isinstance(token, Where))"
   ]
  },
  {
   "cell_type": "code",
   "execution_count": 202,
   "metadata": {},
   "outputs": [],
   "source": [
    "where"
   ]
  },
  {
   "cell_type": "code",
   "execution_count": 203,
   "metadata": {},
   "outputs": [],
   "source": [
    "where.tokens"
   ]
  },
  {
   "cell_type": "code",
   "execution_count": 204,
   "metadata": {},
   "outputs": [],
   "source": [
    "where.tokens[2]"
   ]
  },
  {
   "cell_type": "code",
   "execution_count": 205,
   "metadata": {},
   "outputs": [],
   "source": [
    "c = where.tokens[2]"
   ]
  },
  {
   "cell_type": "code",
   "execution_count": 206,
   "metadata": {},
   "outputs": [],
   "source": [
    "print c"
   ]
  },
  {
   "cell_type": "code",
   "execution_count": 207,
   "metadata": {},
   "outputs": [],
   "source": [
    "c.get_name"
   ]
  },
  {
   "cell_type": "code",
   "execution_count": 208,
   "metadata": {},
   "outputs": [],
   "source": [
    "c.get_name()"
   ]
  },
  {
   "cell_type": "code",
   "execution_count": 209,
   "metadata": {},
   "outputs": [],
   "source": [
    "c.get_real_name()"
   ]
  },
  {
   "cell_type": "code",
   "execution_count": 210,
   "metadata": {},
   "outputs": [],
   "source": [
    "c.get_parent_name()"
   ]
  },
  {
   "cell_type": "code",
   "execution_count": 211,
   "metadata": {},
   "outputs": [],
   "source": [
    "c.parent"
   ]
  },
  {
   "cell_type": "code",
   "execution_count": 212,
   "metadata": {},
   "outputs": [],
   "source": [
    "c.parent()"
   ]
  },
  {
   "cell_type": "code",
   "execution_count": 213,
   "metadata": {},
   "outputs": [],
   "source": [
    "c.parent.get_name"
   ]
  },
  {
   "cell_type": "code",
   "execution_count": 214,
   "metadata": {},
   "outputs": [],
   "source": [
    "c.parent.get_name()"
   ]
  },
  {
   "cell_type": "code",
   "execution_count": 215,
   "metadata": {},
   "outputs": [],
   "source": [
    "where"
   ]
  },
  {
   "cell_type": "code",
   "execution_count": 216,
   "metadata": {},
   "outputs": [],
   "source": [
    "print where"
   ]
  },
  {
   "cell_type": "code",
   "execution_count": 217,
   "metadata": {},
   "outputs": [],
   "source": [
    "stmt.tokens"
   ]
  },
  {
   "cell_type": "code",
   "execution_count": 218,
   "metadata": {},
   "outputs": [],
   "source": [
    "stmt.tokens"
   ]
  },
  {
   "cell_type": "code",
   "execution_count": 219,
   "metadata": {},
   "outputs": [],
   "source": [
    "stmt[-3]"
   ]
  },
  {
   "cell_type": "code",
   "execution_count": 220,
   "metadata": {},
   "outputs": [],
   "source": [
    "print stmt[-3]"
   ]
  },
  {
   "cell_type": "code",
   "execution_count": 221,
   "metadata": {},
   "outputs": [],
   "source": [
    "stmt2"
   ]
  },
  {
   "cell_type": "code",
   "execution_count": 222,
   "metadata": {},
   "outputs": [],
   "source": [
    "stmt2.tokens"
   ]
  },
  {
   "cell_type": "code",
   "execution_count": 223,
   "metadata": {},
   "outputs": [],
   "source": [
    "stmt2[-3]"
   ]
  },
  {
   "cell_type": "code",
   "execution_count": 224,
   "metadata": {},
   "outputs": [],
   "source": [
    "print stmt2[-3]"
   ]
  },
  {
   "cell_type": "code",
   "execution_count": 225,
   "metadata": {},
   "outputs": [],
   "source": [
    "print stmt2[-1]"
   ]
  },
  {
   "cell_type": "code",
   "execution_count": 226,
   "metadata": {},
   "outputs": [],
   "source": [
    "print stmt2[-1].tokens"
   ]
  },
  {
   "cell_type": "code",
   "execution_count": 227,
   "metadata": {},
   "outputs": [],
   "source": [
    "stmt2[-1].tokens"
   ]
  },
  {
   "cell_type": "code",
   "execution_count": 228,
   "metadata": {},
   "outputs": [],
   "source": [
    "stmt2[-1].tokens[6]"
   ]
  },
  {
   "cell_type": "code",
   "execution_count": 229,
   "metadata": {},
   "outputs": [],
   "source": [
    "stmt2[-1].tokens[6].get_name()"
   ]
  },
  {
   "cell_type": "code",
   "execution_count": 230,
   "metadata": {},
   "outputs": [],
   "source": [
    "stmt2[-1].tokens[6].get_real_name()"
   ]
  },
  {
   "cell_type": "code",
   "execution_count": 231,
   "metadata": {},
   "outputs": [],
   "source": [
    "stmt2[-1].tokens[6]"
   ]
  },
  {
   "cell_type": "code",
   "execution_count": 232,
   "metadata": {},
   "outputs": [],
   "source": [
    "stmt2[-1].tokens[6].tokens"
   ]
  },
  {
   "cell_type": "code",
   "execution_count": 233,
   "metadata": {},
   "outputs": [],
   "source": [
    "stmt2[-1].tokens[6]"
   ]
  },
  {
   "cell_type": "code",
   "execution_count": 234,
   "metadata": {},
   "outputs": [],
   "source": [
    "stmt2"
   ]
  },
  {
   "cell_type": "code",
   "execution_count": 235,
   "metadata": {},
   "outputs": [],
   "source": [
    "stmt2.tokens"
   ]
  },
  {
   "cell_type": "code",
   "execution_count": 236,
   "metadata": {},
   "outputs": [],
   "source": [
    "stmt2[-2]"
   ]
  },
  {
   "cell_type": "code",
   "execution_count": 237,
   "metadata": {},
   "outputs": [],
   "source": [
    "stmt2[-3]"
   ]
  },
  {
   "cell_type": "code",
   "execution_count": 238,
   "metadata": {},
   "outputs": [],
   "source": [
    "stmt2[-3].tokens"
   ]
  },
  {
   "cell_type": "code",
   "execution_count": 239,
   "metadata": {},
   "outputs": [],
   "source": [
    "stmt2[-1].tokens"
   ]
  },
  {
   "cell_type": "code",
   "execution_count": 240,
   "metadata": {},
   "outputs": [],
   "source": [
    "print stmt2[-1]"
   ]
  },
  {
   "cell_type": "code",
   "execution_count": 241,
   "metadata": {},
   "outputs": [],
   "source": [
    "print stmt2[-1].tokens"
   ]
  },
  {
   "cell_type": "code",
   "execution_count": 242,
   "metadata": {},
   "outputs": [],
   "source": [
    "stmt2[-1].tokens"
   ]
  },
  {
   "cell_type": "code",
   "execution_count": 243,
   "metadata": {},
   "outputs": [],
   "source": [
    "stmt2[-1].tokens[2]"
   ]
  },
  {
   "cell_type": "code",
   "execution_count": 244,
   "metadata": {},
   "outputs": [],
   "source": [
    "c = stmt2[-1].tokens[2]"
   ]
  },
  {
   "cell_type": "code",
   "execution_count": 245,
   "metadata": {},
   "outputs": [],
   "source": [
    "print c"
   ]
  },
  {
   "cell_type": "code",
   "execution_count": 246,
   "metadata": {},
   "outputs": [],
   "source": [
    "c.tokens"
   ]
  },
  {
   "cell_type": "code",
   "execution_count": 247,
   "metadata": {},
   "outputs": [],
   "source": [
    "c[0]"
   ]
  },
  {
   "cell_type": "code",
   "execution_count": 248,
   "metadata": {},
   "outputs": [],
   "source": [
    "c[0].tokens"
   ]
  },
  {
   "cell_type": "code",
   "execution_count": 249,
   "metadata": {},
   "outputs": [],
   "source": [
    "c[0].tokens[0]"
   ]
  },
  {
   "cell_type": "code",
   "execution_count": 250,
   "metadata": {},
   "outputs": [],
   "source": [
    "c[0].tokens[0].value"
   ]
  },
  {
   "cell_type": "code",
   "execution_count": 251,
   "metadata": {},
   "outputs": [],
   "source": [
    "c[0].tokens[2].value"
   ]
  },
  {
   "cell_type": "code",
   "execution_count": 252,
   "metadata": {},
   "outputs": [],
   "source": [
    "pwd"
   ]
  },
  {
   "cell_type": "code",
   "execution_count": 253,
   "metadata": {},
   "outputs": [],
   "source": [
    "c[0].tokens[2]"
   ]
  },
  {
   "cell_type": "code",
   "execution_count": 254,
   "metadata": {},
   "outputs": [],
   "source": [
    "c[0].tokens"
   ]
  },
  {
   "cell_type": "code",
   "execution_count": 255,
   "metadata": {},
   "outputs": [],
   "source": [
    "c[0]"
   ]
  },
  {
   "cell_type": "code",
   "execution_count": 256,
   "metadata": {},
   "outputs": [],
   "source": [
    "c0 = c[0]"
   ]
  },
  {
   "cell_type": "code",
   "execution_count": 257,
   "metadata": {},
   "outputs": [],
   "source": [
    "c0"
   ]
  },
  {
   "cell_type": "code",
   "execution_count": 258,
   "metadata": {},
   "outputs": [],
   "source": [
    "c0"
   ]
  },
  {
   "cell_type": "code",
   "execution_count": 259,
   "metadata": {},
   "outputs": [],
   "source": [
    "c0.get_name()"
   ]
  },
  {
   "cell_type": "code",
   "execution_count": 260,
   "metadata": {},
   "outputs": [],
   "source": [
    "c0.get_real_name()"
   ]
  },
  {
   "cell_type": "code",
   "execution_count": 261,
   "metadata": {},
   "outputs": [],
   "source": [
    "stmt2.tokens"
   ]
  },
  {
   "cell_type": "code",
   "execution_count": 262,
   "metadata": {},
   "outputs": [],
   "source": [
    "stmt2.tokens[-3]"
   ]
  },
  {
   "cell_type": "code",
   "execution_count": 263,
   "metadata": {},
   "outputs": [],
   "source": [
    "stmt2.tokens[-3].get_name()"
   ]
  },
  {
   "cell_type": "code",
   "execution_count": 264,
   "metadata": {},
   "outputs": [],
   "source": [
    "print stmt2.tokens[-3]"
   ]
  },
  {
   "cell_type": "code",
   "execution_count": 265,
   "metadata": {},
   "outputs": [],
   "source": [
    "print stmt2.tokens[-3].has_alias"
   ]
  },
  {
   "cell_type": "code",
   "execution_count": 266,
   "metadata": {},
   "outputs": [],
   "source": [
    "print stmt2.tokens[-3].has_alias()"
   ]
  },
  {
   "cell_type": "code",
   "execution_count": 267,
   "metadata": {},
   "outputs": [],
   "source": [
    "stmt2.tokens"
   ]
  },
  {
   "cell_type": "code",
   "execution_count": 268,
   "metadata": {},
   "outputs": [],
   "source": [
    "stmt2.tokens[2]"
   ]
  },
  {
   "cell_type": "code",
   "execution_count": 269,
   "metadata": {},
   "outputs": [],
   "source": [
    "stmt2.tokens[3]"
   ]
  },
  {
   "cell_type": "code",
   "execution_count": 270,
   "metadata": {},
   "outputs": [],
   "source": [
    "print stmt2.tokens[3]"
   ]
  },
  {
   "cell_type": "code",
   "execution_count": 271,
   "metadata": {},
   "outputs": [],
   "source": [
    "stmt2.tokens[3]"
   ]
  },
  {
   "cell_type": "code",
   "execution_count": 272,
   "metadata": {},
   "outputs": [],
   "source": [
    "l = stmt2.tokens[3]"
   ]
  },
  {
   "cell_type": "code",
   "execution_count": 273,
   "metadata": {},
   "outputs": [],
   "source": [
    "l.get_name()"
   ]
  },
  {
   "cell_type": "code",
   "execution_count": 274,
   "metadata": {},
   "outputs": [],
   "source": [
    "l.get_real_name()"
   ]
  },
  {
   "cell_type": "code",
   "execution_count": 275,
   "metadata": {},
   "outputs": [],
   "source": [
    "l.get_name()"
   ]
  },
  {
   "cell_type": "code",
   "execution_count": 276,
   "metadata": {},
   "outputs": [],
   "source": [
    "l.has_alias()"
   ]
  },
  {
   "cell_type": "code",
   "execution_count": 277,
   "metadata": {},
   "outputs": [],
   "source": [
    "l"
   ]
  },
  {
   "cell_type": "code",
   "execution_count": 278,
   "metadata": {},
   "outputs": [],
   "source": [
    "l.tokens"
   ]
  },
  {
   "cell_type": "code",
   "execution_count": 279,
   "metadata": {},
   "outputs": [],
   "source": [
    "l.tokens[0]"
   ]
  },
  {
   "cell_type": "code",
   "execution_count": 280,
   "metadata": {},
   "outputs": [],
   "source": [
    "print l.tokens[0]"
   ]
  },
  {
   "cell_type": "code",
   "execution_count": 281,
   "metadata": {},
   "outputs": [],
   "source": [
    "l.is_group"
   ]
  },
  {
   "cell_type": "code",
   "execution_count": 282,
   "metadata": {},
   "outputs": [],
   "source": [
    "l.is_group?"
   ]
  },
  {
   "cell_type": "code",
   "execution_count": 283,
   "metadata": {},
   "outputs": [],
   "source": [
    "type(l)"
   ]
  },
  {
   "cell_type": "code",
   "execution_count": 284,
   "metadata": {},
   "outputs": [],
   "source": [
    "stmt"
   ]
  },
  {
   "cell_type": "code",
   "execution_count": 285,
   "metadata": {},
   "outputs": [],
   "source": [
    "stmt2"
   ]
  },
  {
   "cell_type": "code",
   "execution_count": 286,
   "metadata": {},
   "outputs": [],
   "source": [
    "stmt2.tokens"
   ]
  },
  {
   "cell_type": "code",
   "execution_count": 287,
   "metadata": {},
   "outputs": [],
   "source": [
    "[i i in stmt2.tokens if isinstance(i,sqlparse.tokens.Keyword)]"
   ]
  },
  {
   "cell_type": "code",
   "execution_count": 288,
   "metadata": {},
   "outputs": [],
   "source": [
    "[i for i in stmt2.tokens if isinstance(i,sqlparse.tokens.Keyword)]"
   ]
  },
  {
   "cell_type": "code",
   "execution_count": 289,
   "metadata": {},
   "outputs": [],
   "source": [
    "[i for i in stmt2.tokens if isinstance(i,i,sqlparse.tokens.Keyword)]"
   ]
  },
  {
   "cell_type": "code",
   "execution_count": 290,
   "metadata": {},
   "outputs": [],
   "source": [
    "[i for i in stmt2.tokens if isinstance(i,sqlparse.tokens.Keyword)]"
   ]
  },
  {
   "cell_type": "code",
   "execution_count": 291,
   "metadata": {},
   "outputs": [],
   "source": [
    "isinstance(i,sqlparse.tokens.Keyword)"
   ]
  },
  {
   "cell_type": "code",
   "execution_count": 292,
   "metadata": {},
   "outputs": [],
   "source": [
    "isinstance('i',sqlparse.tokens.Keyword)"
   ]
  },
  {
   "cell_type": "code",
   "execution_count": 293,
   "metadata": {},
   "outputs": [],
   "source": [
    "[i for i in stmt2.tokens ]"
   ]
  },
  {
   "cell_type": "code",
   "execution_count": 294,
   "metadata": {},
   "outputs": [],
   "source": [
    "[type(i) for i in stmt2.tokens ]"
   ]
  },
  {
   "cell_type": "code",
   "execution_count": 295,
   "metadata": {},
   "outputs": [],
   "source": [
    "[i for i in stmt2.tokens if isinstance(i,sqlparse.sql.Token)]"
   ]
  },
  {
   "cell_type": "code",
   "execution_count": 296,
   "metadata": {},
   "outputs": [],
   "source": [
    "[i for i in stmt2.tokens if isinstance(i,sqlparse.sql.Token)]"
   ]
  },
  {
   "cell_type": "code",
   "execution_count": 297,
   "metadata": {},
   "outputs": [],
   "source": [
    "stmt2[-5]"
   ]
  },
  {
   "cell_type": "code",
   "execution_count": 298,
   "metadata": {},
   "outputs": [],
   "source": [
    "a = stmt2[-5]"
   ]
  },
  {
   "cell_type": "code",
   "execution_count": 299,
   "metadata": {},
   "outputs": [],
   "source": [
    "a.is_group()"
   ]
  },
  {
   "cell_type": "code",
   "execution_count": 300,
   "metadata": {},
   "outputs": [],
   "source": [
    "a.is_group"
   ]
  },
  {
   "cell_type": "code",
   "execution_count": 301,
   "metadata": {},
   "outputs": [],
   "source": [
    "a.ttype"
   ]
  },
  {
   "cell_type": "code",
   "execution_count": 302,
   "metadata": {},
   "outputs": [],
   "source": [
    "a.ttype()"
   ]
  },
  {
   "cell_type": "code",
   "execution_count": 303,
   "metadata": {},
   "outputs": [],
   "source": [
    "a.ttyp"
   ]
  },
  {
   "cell_type": "code",
   "execution_count": 304,
   "metadata": {},
   "outputs": [],
   "source": [
    "a.ttype"
   ]
  },
  {
   "cell_type": "code",
   "execution_count": 305,
   "metadata": {},
   "outputs": [],
   "source": [
    "[i for i in stmt2.tokens if isinstance(i,sqlparse.sql.Token)]"
   ]
  },
  {
   "cell_type": "code",
   "execution_count": 306,
   "metadata": {},
   "outputs": [],
   "source": [
    "a = stmt2[-4]"
   ]
  },
  {
   "cell_type": "code",
   "execution_count": 307,
   "metadata": {},
   "outputs": [],
   "source": [
    "print a"
   ]
  },
  {
   "cell_type": "code",
   "execution_count": 308,
   "metadata": {},
   "outputs": [],
   "source": [
    "a.ttype"
   ]
  },
  {
   "cell_type": "code",
   "execution_count": 309,
   "metadata": {},
   "outputs": [],
   "source": [
    "a = stmt2[-5]"
   ]
  },
  {
   "cell_type": "code",
   "execution_count": 310,
   "metadata": {},
   "outputs": [],
   "source": [
    "a.value"
   ]
  },
  {
   "cell_type": "code",
   "execution_count": 311,
   "metadata": {},
   "outputs": [],
   "source": [
    "i.tokens"
   ]
  },
  {
   "cell_type": "code",
   "execution_count": 312,
   "metadata": {},
   "outputs": [],
   "source": [
    "stmt2.tokens"
   ]
  },
  {
   "cell_type": "code",
   "execution_count": 313,
   "metadata": {},
   "outputs": [],
   "source": [
    "t = stmt2.tokens"
   ]
  },
  {
   "cell_type": "code",
   "execution_count": 314,
   "metadata": {},
   "outputs": [],
   "source": [
    "t[:10]"
   ]
  },
  {
   "cell_type": "code",
   "execution_count": 315,
   "metadata": {},
   "outputs": [],
   "source": [
    "t[10:20]"
   ]
  },
  {
   "cell_type": "code",
   "execution_count": 316,
   "metadata": {},
   "outputs": [],
   "source": [
    "t[11]"
   ]
  },
  {
   "cell_type": "code",
   "execution_count": 317,
   "metadata": {},
   "outputs": [],
   "source": [
    "t11 = t[11]"
   ]
  },
  {
   "cell_type": "code",
   "execution_count": 318,
   "metadata": {},
   "outputs": [],
   "source": [
    "print t11"
   ]
  },
  {
   "cell_type": "code",
   "execution_count": 319,
   "metadata": {},
   "outputs": [],
   "source": [
    "t11.ttype"
   ]
  },
  {
   "cell_type": "code",
   "execution_count": 320,
   "metadata": {},
   "outputs": [],
   "source": [
    "t11.is_group"
   ]
  },
  {
   "cell_type": "code",
   "execution_count": 321,
   "metadata": {},
   "outputs": [],
   "source": [
    "t11.value"
   ]
  },
  {
   "cell_type": "code",
   "execution_count": 322,
   "metadata": {},
   "outputs": [],
   "source": [
    "t[12]"
   ]
  },
  {
   "cell_type": "code",
   "execution_count": 323,
   "metadata": {},
   "outputs": [],
   "source": [
    "t[13]"
   ]
  },
  {
   "cell_type": "code",
   "execution_count": 324,
   "metadata": {},
   "outputs": [],
   "source": [
    "t[10:20]"
   ]
  },
  {
   "cell_type": "code",
   "execution_count": 325,
   "metadata": {},
   "outputs": [],
   "source": [
    "t[16]"
   ]
  },
  {
   "cell_type": "code",
   "execution_count": 326,
   "metadata": {},
   "outputs": [],
   "source": [
    "print t[16]"
   ]
  },
  {
   "cell_type": "code",
   "execution_count": 327,
   "metadata": {},
   "outputs": [],
   "source": [
    "print t[18]"
   ]
  },
  {
   "cell_type": "code",
   "execution_count": 328,
   "metadata": {},
   "outputs": [],
   "source": [
    "t[15:25]"
   ]
  }
 ],
 "metadata": {},
 "nbformat": 4,
 "nbformat_minor": 2
}
